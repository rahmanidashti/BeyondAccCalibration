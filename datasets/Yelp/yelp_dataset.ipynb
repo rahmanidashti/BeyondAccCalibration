{
 "cells": [
  {
   "cell_type": "code",
   "execution_count": 2,
   "metadata": {},
   "outputs": [],
   "source": [
    "import pandas as pd\n",
    "from tqdm import tqdm"
   ]
  },
  {
   "cell_type": "code",
   "execution_count": 4,
   "metadata": {},
   "outputs": [
    {
     "data": {
      "text/html": [
       "<div>\n",
       "<style scoped>\n",
       "    .dataframe tbody tr th:only-of-type {\n",
       "        vertical-align: middle;\n",
       "    }\n",
       "\n",
       "    .dataframe tbody tr th {\n",
       "        vertical-align: top;\n",
       "    }\n",
       "\n",
       "    .dataframe thead th {\n",
       "        text-align: right;\n",
       "    }\n",
       "</style>\n",
       "<table border=\"1\" class=\"dataframe\">\n",
       "  <thead>\n",
       "    <tr style=\"text-align: right;\">\n",
       "      <th></th>\n",
       "      <th>uid</th>\n",
       "      <th>iid</th>\n",
       "      <th>time</th>\n",
       "    </tr>\n",
       "  </thead>\n",
       "  <tbody>\n",
       "    <tr>\n",
       "      <th>0</th>\n",
       "      <td>0</td>\n",
       "      <td>0</td>\n",
       "      <td>1.185638e+09</td>\n",
       "    </tr>\n",
       "    <tr>\n",
       "      <th>1</th>\n",
       "      <td>0</td>\n",
       "      <td>1</td>\n",
       "      <td>1.185638e+09</td>\n",
       "    </tr>\n",
       "    <tr>\n",
       "      <th>2</th>\n",
       "      <td>0</td>\n",
       "      <td>2</td>\n",
       "      <td>1.185638e+09</td>\n",
       "    </tr>\n",
       "    <tr>\n",
       "      <th>3</th>\n",
       "      <td>0</td>\n",
       "      <td>3</td>\n",
       "      <td>1.185638e+09</td>\n",
       "    </tr>\n",
       "    <tr>\n",
       "      <th>4</th>\n",
       "      <td>0</td>\n",
       "      <td>4</td>\n",
       "      <td>1.185638e+09</td>\n",
       "    </tr>\n",
       "  </tbody>\n",
       "</table>\n",
       "</div>"
      ],
      "text/plain": [
       "   uid  iid          time\n",
       "0    0    0  1.185638e+09\n",
       "1    0    1  1.185638e+09\n",
       "2    0    2  1.185638e+09\n",
       "3    0    3  1.185638e+09\n",
       "4    0    4  1.185638e+09"
      ]
     },
     "execution_count": 4,
     "metadata": {},
     "output_type": "execute_result"
    }
   ],
   "source": [
    "# load data\n",
    "ratings_data = pd.read_csv(\"raw/Yelp_checkins.txt\", sep='\\t', names=['uid', 'iid', 'time'])\n",
    "ratings_data.head()"
   ]
  },
  {
   "cell_type": "code",
   "execution_count": null,
   "metadata": {},
   "outputs": [],
   "source": [
    "# counting the frequency of user and item\n",
    "useritem_freq = dict()\n",
    "\n",
    "for index, eachline in tqdm(enumerate(ratings_data.itertuples(index=True))):\n",
    "    if (eachline.uid, eachline.iid) in useritem_freq.keys():\n",
    "        useritem_freq[(eachline.uid, eachline.iid)] += 1\n",
    "    elif (eachline.uid, eachline.iid) not in useritem_freq.keys():\n",
    "        useritem_freq[(eachline.uid, eachline.iid)] = 1"
   ]
  },
  {
   "cell_type": "code",
   "execution_count": null,
   "metadata": {},
   "outputs": [],
   "source": [
    "# creating a new file to store the user,item,rating\n",
    "ratings = open('raw/ratings.csv', 'w')\n",
    "ratings.write('userId,itemId,rating\\n')\n",
    "for useritem, freq in useritem_freq.items():\n",
    "    ratings.write(f\"{useritem[0]},{useritem[1]},{freq}\\n\")\n",
    "ratings.close()"
   ]
  },
  {
   "cell_type": "code",
   "execution_count": null,
   "metadata": {},
   "outputs": [],
   "source": [
    "# reading item or poi category data\n",
    "item_data = pd.read_csv(\"raw/Yelp_poi_categories.txt\", sep='\\t', names=['iid', 'category'])\n",
    "item_data.head()"
   ]
  },
  {
   "cell_type": "code",
   "execution_count": null,
   "metadata": {},
   "outputs": [],
   "source": [
    "# creating item to categories dict to indicate the relevant cateogries to items\n",
    "item_category = dict()\n",
    "\n",
    "for eachline in item_data.itertuples(index=True):\n",
    "    if eachline.iid in item_category.keys():\n",
    "        item_category[eachline.iid].add(str(eachline.category))\n",
    "    elif eachline.iid not in item_category.keys():\n",
    "        item_category[eachline.iid] = {str(eachline.category)}"
   ]
  },
  {
   "cell_type": "code",
   "execution_count": null,
   "metadata": {},
   "outputs": [],
   "source": [
    "# writing the category information to file\n",
    "pois = open('raw/pois.csv', 'w')\n",
    "pois.write('itemId,category\\n')\n",
    "for itemId, categories in item_category.items():\n",
    "    POI_categories = \"|\".join(categories)\n",
    "    pois.write(f\"{itemId},{POI_categories}\\n\")\n",
    "pois.close()"
   ]
  },
  {
   "cell_type": "markdown",
   "metadata": {},
   "source": [
    "__Outputs__: `ratings.csv` and `pois.csv`"
   ]
  },
  {
   "cell_type": "markdown",
   "metadata": {},
   "source": [
    "## IDs to Index"
   ]
  },
  {
   "cell_type": "code",
   "execution_count": null,
   "metadata": {},
   "outputs": [],
   "source": [
    "ratings_data = pd.read_csv(\"raw/ratings.csv\")\n",
    "pois_data = pd.read_csv(\"raw/pois.csv\")"
   ]
  },
  {
   "cell_type": "code",
   "execution_count": null,
   "metadata": {},
   "outputs": [],
   "source": [
    "# convert user and item ids to user and item index (from 0 to n: the number of users/items)\n",
    "\n",
    "uid_to_uidx = dict()\n",
    "iid_to_iidx = dict()\n",
    "\n",
    "# user and item index counter\n",
    "uidx_cnt = 0\n",
    "iidx_cnt = 0\n",
    "\n",
    "for eachsample in ratings_data.itertuples(index=True):\n",
    "    # users index\n",
    "    if eachsample.userId not in uid_to_uidx.keys():\n",
    "        uid_to_uidx[eachsample.userId] = uidx_cnt\n",
    "        uidx_cnt += 1\n",
    "\n",
    "    # items index\n",
    "    if eachsample.itemId not in iid_to_iidx.keys():\n",
    "        iid_to_iidx[eachsample.itemId] = iidx_cnt\n",
    "        iidx_cnt += 1"
   ]
  },
  {
   "cell_type": "code",
   "execution_count": null,
   "metadata": {},
   "outputs": [],
   "source": [
    "# to write the rating data using new indices\n",
    "dataset_data = open(\"raw/Yelp_data_map.txt\", 'w')\n",
    "\n",
    "for eachsample in ratings_data.itertuples(index=True):\n",
    "    dataset_data.write(f\"{str(uid_to_uidx[eachsample.userId])},{str(iid_to_iidx[eachsample.itemId])},{str(eachsample.rating)}\\n\")\n",
    "\n",
    "dataset_data.close()"
   ]
  },
  {
   "cell_type": "code",
   "execution_count": null,
   "metadata": {},
   "outputs": [],
   "source": [
    "# to write the movie data using new indices\n",
    "genre_data = open(\"raw/Yelp_cat_map.txt\", 'w')\n",
    "\n",
    "for eachsample in pois_data.itertuples(index=True):\n",
    "    if eachsample.itemId in iid_to_iidx.keys():\n",
    "        genre_data.write(f\"{str(iid_to_iidx[eachsample.itemId])},{str(eachsample.category)}\\n\")\n",
    "\n",
    "genre_data.close()"
   ]
  },
  {
   "cell_type": "markdown",
   "metadata": {},
   "source": [
    "__Outputs__: `Yelp_data_map.txt` and `Yelp_cat_map.txt`"
   ]
  }
 ],
 "metadata": {
  "interpreter": {
   "hash": "0adcc2737ebf6a4a119f135174df96668767fca1ef1112612db5ecadf2b6d608"
  },
  "kernelspec": {
   "display_name": "Python 3.8.0 64-bit",
   "language": "python",
   "name": "python3"
  },
  "language_info": {
   "codemirror_mode": {
    "name": "ipython",
    "version": 3
   },
   "file_extension": ".py",
   "mimetype": "text/x-python",
   "name": "python",
   "nbconvert_exporter": "python",
   "pygments_lexer": "ipython3",
   "version": "3.8.0"
  },
  "orig_nbformat": 4
 },
 "nbformat": 4,
 "nbformat_minor": 2
}
